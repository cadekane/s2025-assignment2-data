{
 "cells": [
  {
   "cell_type": "markdown",
   "metadata": {},
   "source": [
    "## 2.2 HTML to text conversion"
   ]
  },
  {
   "cell_type": "code",
   "execution_count": null,
   "metadata": {},
   "outputs": [],
   "source": [
    "from resiliparse.parse.encoding import detect_encoding\n",
    "from resiliparse.extract.html2text import extract_plain_text\n",
    "\n",
    "def run_extract_text_from_html_bytes(html_bytes: bytes) -> str | None:\n",
    "\n",
    "    # Detect encoding of the byte string\n",
    "    enc = detect_encoding(html_bytes)\n",
    "    print(enc)\n",
    "\n",
    "    # Decode the byte string into a Unicode string\n",
    "    html = html_bytes.decode('utf-8')\n",
    "    print(html)\n",
    "\n",
    "    # If the encoding is not UTF-8, try to decode it using the detected encoding\n",
    "    if enc != 'utf-8':\n",
    "        try:\n",
    "            html = html_bytes.decode(enc)\n",
    "        except UnicodeDecodeError:\n",
    "            return None\n",
    "\n",
    "    # Extract text from the HTML string\n",
    "    text = extract_plain_text(html)\n",
    "\n",
    "    return text"
   ]
  },
  {
   "cell_type": "code",
   "execution_count": 17,
   "metadata": {},
   "outputs": [
    {
     "name": "stdout",
     "output_type": "stream",
     "text": [
      "cp1252\n",
      "<html><head><title>Test</title></head><body><h1>Hello World</h1></body></html>\n"
     ]
    },
    {
     "data": {
      "text/plain": [
       "'Hello World'"
      ]
     },
     "execution_count": 17,
     "metadata": {},
     "output_type": "execute_result"
    }
   ],
   "source": [
    "# run_extract_text_from_html_bytes(b'\\xff\\xfeH\\x00e\\x00l\\x00l\\x00o\\x00 \\x00W\\x00o\\x00r\\x00l\\x00d\\x00')\n",
    "run_extract_text_from_html_bytes(b'<html><head><title>Test</title></head><body><h1>Hello World</h1></body></html>')"
   ]
  }
 ],
 "metadata": {
  "kernelspec": {
   "display_name": "cs336_data",
   "language": "python",
   "name": "python3"
  },
  "language_info": {
   "codemirror_mode": {
    "name": "ipython",
    "version": 3
   },
   "file_extension": ".py",
   "mimetype": "text/x-python",
   "name": "python",
   "nbconvert_exporter": "python",
   "pygments_lexer": "ipython3",
   "version": "3.10.16"
  }
 },
 "nbformat": 4,
 "nbformat_minor": 2
}
